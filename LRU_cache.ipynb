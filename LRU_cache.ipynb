{
 "cells": [
  {
   "cell_type": "markdown",
   "id": "dd238d73",
   "metadata": {},
   "source": [
    "# LRU_Cache"
   ]
  },
  {
   "cell_type": "code",
   "execution_count": 22,
   "id": "5fa074ce",
   "metadata": {},
   "outputs": [],
   "source": [
    "#size is of the consideration, if not we would store everything in the cache\n",
    "\n",
    "l=[(1,2),(2,2),(3,0),(4,1),(1,2),(2,2),(1,2),(4,1),(2,2)]\n",
    "from collections import defaultdict\n",
    "class lru:\n",
    "    def __init__(self,size):\n",
    "        self.size=size\n",
    "        self.cache=defaultdict(list)\n",
    "    def lru_cache(self,element):\n",
    "        size=10\n",
    "        miindex=0\n",
    "        if element[0] in self.cache: \n",
    "            self.cache[element[0]][0]+=1\n",
    "            return (self.cache[element[0]][1],True)\n",
    "        elif len(self.cache)<self.size:\n",
    "            self.cache[element[0]].append(1)\n",
    "            self.cache[element[0]].append(element[1])\n",
    "            return (self.cache[element[0]][1],False)\n",
    "        else:\n",
    "            #remove the least frequently used element, and insert this element.\n",
    "            mkey=-1\n",
    "            mvalue=float('inf')\n",
    "            print(self.cache)\n",
    "            for i in self.cache:\n",
    "                print(self.cache[i][0])\n",
    "                if self.cache[i][0]<mvalue:\n",
    "                    #print(self.cache[i][0])\n",
    "                    mkey=i\n",
    "                    mvalue=self.cache[i][0]\n",
    "            del self.cache[mkey]\n",
    "            self.cache[element[0]].append(1)\n",
    "            self.cache[element[0]].append(element[1])\n",
    "            return (self.cache[element[0]][1],False)"
   ]
  },
  {
   "cell_type": "code",
   "execution_count": 23,
   "id": "66b7585a",
   "metadata": {},
   "outputs": [],
   "source": [
    "cache=lru(3)\n",
    "l=[[1,2],[2,3],[1,2],[3,6]]\n",
    "for i in l:\n",
    "    cache.lru_cache(i)"
   ]
  },
  {
   "cell_type": "code",
   "execution_count": 24,
   "id": "8ad60080",
   "metadata": {},
   "outputs": [
    {
     "name": "stdout",
     "output_type": "stream",
     "text": [
      "defaultdict(<class 'list'>, {1: [2, 2], 2: [1, 3], 3: [1, 6]})\n",
      "2\n",
      "1\n",
      "1\n"
     ]
    },
    {
     "data": {
      "text/plain": [
       "(4, False)"
      ]
     },
     "execution_count": 24,
     "metadata": {},
     "output_type": "execute_result"
    }
   ],
   "source": [
    "cache.lru_cache([6,4])"
   ]
  },
  {
   "cell_type": "code",
   "execution_count": 5,
   "id": "eed99921",
   "metadata": {},
   "outputs": [
    {
     "name": "stdout",
     "output_type": "stream",
     "text": [
      "2 0\n"
     ]
    }
   ],
   "source": [
    "mvalue=float('inf')\n",
    "mkey = -1\n",
    "for i in cache.cache:\n",
    "    if cache.cache[i][0]<mvalue:\n",
    "        mvalue=cache.cache[i][0]\n",
    "        mkey=i\n",
    "print(mkey,mvalue)"
   ]
  },
  {
   "cell_type": "code",
   "execution_count": 25,
   "id": "7521d26f",
   "metadata": {},
   "outputs": [
    {
     "data": {
      "text/plain": [
       "defaultdict(list, {1: [2, 2], 3: [1, 6], 6: [1, 4]})"
      ]
     },
     "execution_count": 25,
     "metadata": {},
     "output_type": "execute_result"
    }
   ],
   "source": [
    "\n",
    "cache.cache"
   ]
  },
  {
   "cell_type": "code",
   "execution_count": null,
   "id": "ab54d8cc",
   "metadata": {},
   "outputs": [],
   "source": []
  }
 ],
 "metadata": {
  "kernelspec": {
   "display_name": "Python 3 (ipykernel)",
   "language": "python",
   "name": "python3"
  },
  "language_info": {
   "codemirror_mode": {
    "name": "ipython",
    "version": 3
   },
   "file_extension": ".py",
   "mimetype": "text/x-python",
   "name": "python",
   "nbconvert_exporter": "python",
   "pygments_lexer": "ipython3",
   "version": "3.11.4"
  }
 },
 "nbformat": 4,
 "nbformat_minor": 5
}
