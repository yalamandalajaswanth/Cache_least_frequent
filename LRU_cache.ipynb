{
 "cells": [
  {
   "cell_type": "markdown",
   "id": "767893ab",
   "metadata": {},
   "source": [
    "# LRU_Cache"
   ]
  },
  {
   "cell_type": "code",
   "execution_count": 37,
   "id": "3cfade7c",
   "metadata": {},
   "outputs": [],
   "source": [
    "#size is of the consideration, if not we would store everything in the cache\n",
    "l=[(1,2),(2,2),(3,0),(4,1),(1,2),(2,2),(1,2),(4,1),(2,2)]\n",
    "from collections import defaultdict\n",
    "class cache_data:\n",
    "    #class that stores data of the cache.\n",
    "    def __init__(self,frequency,value):\n",
    "        self.frequency=frequency\n",
    "        self.value=value\n",
    "\n",
    "class lru:\n",
    "    def __init__(self,size):\n",
    "        self.size=size\n",
    "        self.cache=defaultdict(list)\n",
    "    def lru_cache(self,element):\n",
    "        size=10\n",
    "        miindex=0\n",
    "        if element[0] in self.cache: \n",
    "            self.cache[element[0]].frequency+=1\n",
    "            return (self.cache[element[0]].value,True)\n",
    "        elif len(self.cache)<self.size:\n",
    "            self.cache[element[0]]=cache_data(frequency=1,value=element[1])\n",
    "            return (self.cache[element[0]].value,False)\n",
    "        else:\n",
    "            #remove the least frequently used element, and insert this element.\n",
    "            #store the frequencies in min heap. \n",
    "            mkey=-1\n",
    "            mvalue=float('inf')\n",
    "            print(self.cache)\n",
    "            for i in self.cache:\n",
    "                #print(self.cache[i].frequency)\n",
    "                if self.cache[i].frequency<mvalue:\n",
    "                    #print(self.cache[i].frequency)\n",
    "                    mkey=i\n",
    "                    mvalue=self.cache[i].frequency\n",
    "            del self.cache[mkey]\n",
    "            self.cache[element[0]]=cache_data(frequency=1,value=element[1])\n",
    "            return (self.cache[element[0]].value,False)"
   ]
  },
  {
   "cell_type": "code",
   "execution_count": 38,
   "id": "c07cd029",
   "metadata": {},
   "outputs": [],
   "source": [
    "cache=lru(3)\n",
    "l=[[1,2],[2,3],[1,2],[3,6]]\n",
    "for i in l:\n",
    "    cache.lru_cache(i)"
   ]
  },
  {
   "cell_type": "code",
   "execution_count": 41,
   "id": "a67e80b3",
   "metadata": {},
   "outputs": [
    {
     "data": {
      "text/plain": [
       "(4, True)"
      ]
     },
     "execution_count": 41,
     "metadata": {},
     "output_type": "execute_result"
    }
   ],
   "source": [
    "cache.lru_cache([6,4])"
   ]
  },
  {
   "cell_type": "code",
   "execution_count": 53,
   "id": "880a0ebc",
   "metadata": {},
   "outputs": [
    {
     "name": "stdout",
     "output_type": "stream",
     "text": [
      "(1, 2)\n",
      "(2, 3)\n",
      "(4, 5)\n",
      "(6, 8)\n"
     ]
    }
   ],
   "source": [
    "items=[(1,2),(2,3),(4,5),(6,8)]\n",
    "min_heap = []\n",
    "for item in items:\n",
    "    heapq.heappush(min_heap, item)\n",
    "\n",
    "# Pop elements from the heap\n",
    "while min_heap:\n",
    "    print(heapq.heappop(min_heap))"
   ]
  },
  {
   "cell_type": "code",
   "execution_count": 55,
   "id": "51c052cf",
   "metadata": {},
   "outputs": [
    {
     "data": {
      "text/plain": [
       "(1, 2)"
      ]
     },
     "execution_count": 55,
     "metadata": {},
     "output_type": "execute_result"
    }
   ],
   "source": [
    "items=[(1,2),(2,3),(4,5),(6,8)]\n",
    "heapq.heapify(items)\n",
    "heapq.heappop(items)"
   ]
  },
  {
   "cell_type": "code",
   "execution_count": 59,
   "id": "b52d1cce",
   "metadata": {},
   "outputs": [
    {
     "ename": "IndexError",
     "evalue": "index out of range",
     "output_type": "error",
     "traceback": [
      "\u001b[0;31m---------------------------------------------------------------------------\u001b[0m",
      "\u001b[0;31mIndexError\u001b[0m                                Traceback (most recent call last)",
      "Cell \u001b[0;32mIn[59], line 1\u001b[0m\n\u001b[0;32m----> 1\u001b[0m heapq\u001b[38;5;241m.\u001b[39mheappop(items)\n",
      "\u001b[0;31mIndexError\u001b[0m: index out of range"
     ]
    }
   ],
   "source": [
    "heapq.heappop(items)"
   ]
  },
  {
   "cell_type": "code",
   "execution_count": null,
   "id": "79faa2dc",
   "metadata": {},
   "outputs": [],
   "source": []
  }
 ],
 "metadata": {
  "kernelspec": {
   "display_name": "Python 3 (ipykernel)",
   "language": "python",
   "name": "python3"
  },
  "language_info": {
   "codemirror_mode": {
    "name": "ipython",
    "version": 3
   },
   "file_extension": ".py",
   "mimetype": "text/x-python",
   "name": "python",
   "nbconvert_exporter": "python",
   "pygments_lexer": "ipython3",
   "version": "3.11.4"
  }
 },
 "nbformat": 4,
 "nbformat_minor": 5
}
